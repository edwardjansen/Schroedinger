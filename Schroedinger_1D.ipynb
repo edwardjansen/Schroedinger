{
 "cells": [
  {
   "cell_type": "code",
   "execution_count": 1,
   "metadata": {
    "collapsed": true
   },
   "outputs": [],
   "source": [
    "import numpy as np\n",
    "from matplotlib import pyplot as plt\n",
    "from matplotlib import animation              \n",
    "from scipy.fftpack import fft,ifft "
   ]
  },
  {
   "cell_type": "code",
   "execution_count": 2,
   "metadata": {
    "collapsed": false
   },
   "outputs": [],
   "source": [
    "#define some functions we will be calling later on\n",
    "def gaussian_wavepack(x, sigma, x0, k0):\n",
    "    \"\"\"Creates a Gaussian wavepack with momentum k0*hbar and width sigma.\"\"\"\n",
    "    return ((sigma * (np.pi)) ** (-0.5) * np.exp(-0.5 * ((x - x0) * 1. / sigma) ** 2 + 1j * x * k0))\n",
    "\n",
    "def potential_barrier(x,width,heigth,center):\n",
    "    \"\"\"Creates a square potential barrier in domain x.\"\"\"\n",
    "    return heigth*(0.5*(np.sign((x-center)+width/2)+1) - 0.5*(np.sign((x-center)-width/2)+1))    "
   ]
  },
  {
   "cell_type": "code",
   "execution_count": 3,
   "metadata": {
    "collapsed": false
   },
   "outputs": [],
   "source": [
    "#define the class that we will be making instances of\n",
    "class WaveFunction(object):\n",
    "    def __init__(self, x, psi_x0, V,  hbar, m, t0, dt, k_range=0):\n",
    "        \"\"\"\n",
    "        Args:\n",
    "            x : array, float\n",
    "                The domain of computations, a vector with x-coordinates.\n",
    "            psi_x0 : array, complex\n",
    "                The initial wavefunction, a vector with complex number corresponding to each position.\n",
    "            V : array, float\n",
    "                The potential, a vector with a float number corresponding to the potential at each coordinate\n",
    "            hbar : float\n",
    "                The value of the plank's constant, default 1\n",
    "            m : float\n",
    "                Mass of the particle, default 1\n",
    "            t0 : float\n",
    "                inital time, default 0\n",
    "            dt : float\n",
    "                The value of the timestep\n",
    "            k_range : float\n",
    "                This value specifies the range of the k values. For the default k_range = 0 a suitable range is\n",
    "                used: [-0.5*N*dk,0.5*N*dk]\n",
    "                Otherwise the range [-k_range, -k_range + N*dk]  is used. This might be useful if you know that wavenumbers\n",
    "                outside of the default range will be non-zero.\n",
    "        \"\"\"\n",
    "        #set internal params\n",
    "        self.x = x\n",
    "        self.V = V\n",
    "        self.N = len(x)\n",
    "        self.t = t0\n",
    "        self.m = m\n",
    "        self.hbar = hbar\n",
    "        self.dx = self.x[1] - self.x[0]\n",
    "        self.dk = 2 * np.pi / (self.N * self.dx)\n",
    "        self.k =  -0.5 * self.N * self.dk + self.dk * np.arange(self.N)\n",
    "        \n",
    "        if k_range != 0:\n",
    "            self.k = -k_range + self.dk * np.arange(self.N)\n",
    "        \n",
    "        #set initial psi_x and psi_k\n",
    "        self.psi_x = psi_x0\n",
    "        self.fft()\n",
    "        \n",
    "        #set evolution operators\n",
    "        self.x_evolution_half = np.exp(-0.5 * 1j * self.V/ self.hbar * dt )\n",
    "        self.k_evolution = np.exp(-0.5 * 1j * self.hbar/self.m * (self.k * self.k) * dt)\n",
    "        \n",
    "    #define functions for getters and setters and combine them in a property\n",
    "    def _set_psi_x(self, psi_x):\n",
    "        self.psi_fou_x = (psi_x * np.exp(-1j * self.k[0] * self.x)* self.dx / np.sqrt(2 * np.pi))\n",
    "    def _get_psi_x(self):\n",
    "        return (self.psi_fou_x * np.exp(1j * self.k[0] * self.x)* np.sqrt(2 * np.pi) / self.dx)\n",
    "\n",
    "    def _set_psi_k(self, psi_k):\n",
    "        self.psi_fou_k = psi_k * np.exp(1j * self.x[0]* self.dk * np.arange(self.N))\n",
    "    def _get_psi_k(self):\n",
    "        return self.psi_fou_k * np.exp(-1j * self.x[0] * self.dk * np.arange(self.N))\n",
    "           \n",
    "    psi_x = property(_get_psi_x, _set_psi_x)\n",
    "    psi_k = property(_get_psi_k, _set_psi_k) \n",
    "    \n",
    "    #define FFT and iFFT\n",
    "    def fft(self):\n",
    "        self.psi_fou_k = fft(self.psi_fou_x)\n",
    "        \n",
    "    def ifft(self):\n",
    "        self.psi_fou_x = ifft(self.psi_fou_k)\n",
    "    \n",
    "    #calculate a timestep\n",
    "    def time_step(self, dt, steps):\n",
    "        for i in range(steps - 1):\n",
    "            self.psi_fou_x *= self.x_evolution_half\n",
    "            self.fft()\n",
    "            self.psi_fou_k *= self.k_evolution\n",
    "            self.ifft()\n",
    "            self.psi_fou_x *= self.x_evolution_half\n",
    "\n",
    "        self.fft()\n",
    "        self.t += dt * steps"
   ]
  },
  {
   "cell_type": "code",
   "execution_count": 143,
   "metadata": {
    "collapsed": false
   },
   "outputs": [],
   "source": [
    "\"\"\"set-up simulation - uncomment/comment the relevant parts to toggle between different potential barrier setups. The setup\n",
    "is now configured to observe resonant tunneling.\"\"\"\n",
    "\n",
    "#specify simple parameters\n",
    "hbar = 1          #planck's constant /2pi\n",
    "m = 0.5           #mass particle\n",
    "t0 = 0            #start time\n",
    "dt = 0.01         #length timestep\n",
    "steps = 50        #number of timesteps between each frame\n",
    "frames = 300      #not input param but needed for animation\n",
    "\n",
    "#specify x-coordinates from [-xrange, xrange] with N number of points\n",
    "N = 2000\n",
    "xrange = 200\n",
    "x = np.linspace(-xrange,xrange,N)\n",
    "\n",
    "#specify potential\n",
    "V0 = .15                            # Height of potential\n",
    "a = 8                               # Width of potential\n",
    "V = np.zeros(N)\n",
    "\n",
    "#Single barrier\n",
    "#V = potential_barrier(x, a, V0, 0)  # Potential barrier\n",
    "\n",
    "#Single well\n",
    "#V = -potential_barrier(x, a, V0, 0) # Potential well\n",
    "\n",
    "#Double barrier distance dis apart\n",
    "dis = 13.2\n",
    "V = potential_barrier(x, a, V0, -dis/2) + potential_barrier(x, dis-a, -0.05*V0, 0) + potential_barrier(x, a, V0, dis/2)\n",
    "\n",
    "#Add edges\n",
    "#V[x < -98] = 1e10 \n",
    "#V[x > 98] = 1e10\n",
    "\n",
    "#specify initial wave\n",
    "x0 = -50                            # Initial position\n",
    "p0 = 0.7*np.sqrt(2*m*V0)            # Initial momentum (in terms of potential barrier energy)\n",
    "d = hbar / np.sqrt(2*p0**2*(1/100)) # Width of wavefunction / 1/width of momenta\n",
    "k0 = p0 / hbar\n",
    "psi_x0 = gaussian_wavepack(x, d, x0, k0) #*(x-x0) #Uncomment for anti-symmetric wavefunction\n",
    "\n",
    "#create instance of WaveFunction\n",
    "W = WaveFunction(x=x, psi_x0=psi_x0, V=V, hbar=hbar, m=m, t0=0.0, dt=dt, k_range=0)"
   ]
  },
  {
   "cell_type": "code",
   "execution_count": 144,
   "metadata": {
    "collapsed": false
   },
   "outputs": [],
   "source": [
    "#set-up figure\n",
    "fig = plt.figure()\n",
    "\n",
    "xlim = [W.x[0],W.x[-1]]\n",
    "ylim =[-0.1, 1.5*abs(W.psi_x).max()]\n",
    "plot1 = fig.add_subplot(211, xlim=xlim, ylim=ylim)\n",
    "plot1.set_xlabel('$x$')\n",
    "plot1.set_ylabel('$|\\psi(x)|$')\n",
    "X, = plot1.plot([], [], c='r', label=r'$|\\psi(x)|$')\n",
    "V_graph, = plot1.plot([], [], c='k', label=r'$V(x)$')\n",
    "\n",
    "klim = (W.k[0],W.k[-1])\n",
    "ymin = abs(W.psi_k).min()\n",
    "ymax = abs(W.psi_k).max()\n",
    "plot2 = fig.add_subplot(212, xlim=klim, ylim=(ymin - 0.2 * (ymax - ymin), ymax + 0.2 * (ymax)))\n",
    "plot2.set_xlabel('$k$')\n",
    "plot2.set_ylabel('$| \\psi(k) |$')\n",
    "K, = plot2.plot([],[], c = 'r', label = r'$| \\psi(k) |$')"
   ]
  },
  {
   "cell_type": "code",
   "execution_count": 145,
   "metadata": {
    "collapsed": false
   },
   "outputs": [],
   "source": [
    "#set-up animation\n",
    "def initialize():\n",
    "    X.set_data([],[])\n",
    "    K.set_data([],[])\n",
    "    V_graph.set_data([],[])\n",
    "    return X, K, V_graph\n",
    "\n",
    "def update(i):\n",
    "    W.time_step(dt,steps)\n",
    "    X.set_data(W.x, abs(W.psi_x))\n",
    "    K.set_data(W.k, abs(W.psi_k))\n",
    "    V_graph.set_data(W.x, W.V)\n",
    "    return X, K, V_graph\n",
    "\n",
    "#animate\n",
    "ani = animation.FuncAnimation(fig, update,init_func=initialize,frames=frames, interval=30, blit=True)\n",
    "plt.show()"
   ]
  },
  {
   "cell_type": "code",
   "execution_count": null,
   "metadata": {
    "collapsed": true
   },
   "outputs": [],
   "source": []
  }
 ],
 "metadata": {
  "kernelspec": {
   "display_name": "Python 3",
   "language": "python",
   "name": "python3"
  },
  "language_info": {
   "codemirror_mode": {
    "name": "ipython",
    "version": 3
   },
   "file_extension": ".py",
   "mimetype": "text/x-python",
   "name": "python",
   "nbconvert_exporter": "python",
   "pygments_lexer": "ipython3",
   "version": "3.5.1"
  }
 },
 "nbformat": 4,
 "nbformat_minor": 0
}
